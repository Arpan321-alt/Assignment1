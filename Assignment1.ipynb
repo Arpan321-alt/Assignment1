{
 "cells": [
  {
   "cell_type": "code",
   "execution_count": 1,
   "id": "ec0986e1-6dbf-47e5-b1f6-4aaeb3b74d7b",
   "metadata": {},
   "outputs": [
    {
     "name": "stdout",
     "output_type": "stream",
     "text": [
      "4\n",
      "3\n"
     ]
    }
   ],
   "source": [
    "#1. Declare two variables, `x` and `y`, and assign them integer values. Swap the values of these variables without using any temporary variable.\n",
    "\n",
    "x=3\n",
    "y=4\n",
    "x=x+y\n",
    "y=x-y\n",
    "x=x-y\n",
    "print(x)\n",
    "print(y)"
   ]
  },
  {
   "cell_type": "code",
   "execution_count": 4,
   "id": "25d81fde-64c9-4b80-96f9-0e37ceb6de90",
   "metadata": {},
   "outputs": [
    {
     "name": "stdin",
     "output_type": "stream",
     "text": [
      "please enter length 3\n",
      "please enter width 4\n"
     ]
    },
    {
     "name": "stdout",
     "output_type": "stream",
     "text": [
      "area is 12\n"
     ]
    }
   ],
   "source": [
    "#2 Create a program that calculates the area of a rectangle. Take the length and width as inputs from the user and store them in variables. Calculate and display the area.\n",
    "l=int(input('please enter length'))\n",
    "b=int(input('please enter width'))\n",
    "area=l*b\n",
    "print('area is',area)"
   ]
  },
  {
   "cell_type": "code",
   "execution_count": 7,
   "id": "bd475904-8a07-4d98-959c-11386d86606e",
   "metadata": {},
   "outputs": [
    {
     "name": "stdin",
     "output_type": "stream",
     "text": [
      "please enter temperature 32.5\n"
     ]
    },
    {
     "name": "stdout",
     "output_type": "stream",
     "text": [
      "90.5\n"
     ]
    }
   ],
   "source": [
    "#3. Write a Python program that converts temperatures from Celsius to Fahrenheit. Take the temperature in Celsius as input, store it in a variable, convert it to Fahrenheit, and display the result.\n",
    "c=float(input(\"please enter temperature\"))\n",
    "t=(c*1.8)+32\n",
    "print(t)"
   ]
  },
  {
   "cell_type": "code",
   "execution_count": 8,
   "id": "50b701bf-6a4c-4234-b643-a5e4335d56a6",
   "metadata": {},
   "outputs": [
    {
     "name": "stdin",
     "output_type": "stream",
     "text": [
      " arpan\n"
     ]
    },
    {
     "name": "stdout",
     "output_type": "stream",
     "text": [
      "5\n"
     ]
    }
   ],
   "source": [
    "#4 Strings Questions\n",
    "#Write a Python program that takes a string as input and prints the length of the string.\n",
    "a=input()\n",
    "print(len(a))"
   ]
  },
  {
   "cell_type": "code",
   "execution_count": 20,
   "id": "fd147099-69d8-4577-9af9-fb0164f19e7c",
   "metadata": {},
   "outputs": [
    {
     "name": "stderr",
     "output_type": "stream",
     "text": [
      "<>:10: SyntaxWarning: \"is\" with a literal. Did you mean \"==\"?\n",
      "<>:12: SyntaxWarning: \"is\" with a literal. Did you mean \"==\"?\n",
      "<>:14: SyntaxWarning: \"is\" with a literal. Did you mean \"==\"?\n",
      "<>:16: SyntaxWarning: \"is\" with a literal. Did you mean \"==\"?\n",
      "<>:18: SyntaxWarning: \"is\" with a literal. Did you mean \"==\"?\n",
      "<>:10: SyntaxWarning: \"is\" with a literal. Did you mean \"==\"?\n",
      "<>:12: SyntaxWarning: \"is\" with a literal. Did you mean \"==\"?\n",
      "<>:14: SyntaxWarning: \"is\" with a literal. Did you mean \"==\"?\n",
      "<>:16: SyntaxWarning: \"is\" with a literal. Did you mean \"==\"?\n",
      "<>:18: SyntaxWarning: \"is\" with a literal. Did you mean \"==\"?\n"
     ]
    },
    {
     "name": "stdin",
     "output_type": "stream",
     "text": [
      " The cat sat or a mat\n"
     ]
    },
    {
     "name": "stdout",
     "output_type": "stream",
     "text": [
      "4\n",
      "1\n",
      "0\n",
      "1\n",
      "0\n"
     ]
    },
    {
     "name": "stderr",
     "output_type": "stream",
     "text": [
      "/tmp/ipykernel_104/135303105.py:10: SyntaxWarning: \"is\" with a literal. Did you mean \"==\"?\n",
      "  if k[j] is 'a':\n",
      "/tmp/ipykernel_104/135303105.py:12: SyntaxWarning: \"is\" with a literal. Did you mean \"==\"?\n",
      "  elif k[j] is 'e':\n",
      "/tmp/ipykernel_104/135303105.py:14: SyntaxWarning: \"is\" with a literal. Did you mean \"==\"?\n",
      "  elif k[j] is 'i':\n",
      "/tmp/ipykernel_104/135303105.py:16: SyntaxWarning: \"is\" with a literal. Did you mean \"==\"?\n",
      "  elif k[j] is 'o':\n",
      "/tmp/ipykernel_104/135303105.py:18: SyntaxWarning: \"is\" with a literal. Did you mean \"==\"?\n",
      "  elif k[j] is 'u':\n"
     ]
    }
   ],
   "source": [
    "#1Create a program that takes a sentence from the user and counts the number of vowels (a, e, i, o, u) in the string.\n",
    "k=input()\n",
    "a=0\n",
    "e=0\n",
    "i=0\n",
    "o=0\n",
    "u=0\n",
    "\n",
    "for j in range(len(k)):\n",
    "    if k[j] is 'a':\n",
    "        a=a+1\n",
    "    elif k[j] is 'e':\n",
    "        e=e+1\n",
    "    elif k[j] is 'i':\n",
    "        i=i+1\n",
    "    elif k[j] is 'o':\n",
    "        o=o+1\n",
    "    elif k[j] is 'u':\n",
    "        u=u+1\n",
    "print(a)\n",
    "print(e)\n",
    "print(i)\n",
    "print(o)\n",
    "print(u)"
   ]
  },
  {
   "cell_type": "code",
   "execution_count": 21,
   "id": "2a3a1420-dafb-4e8b-81a3-fb2b40ea7303",
   "metadata": {},
   "outputs": [
    {
     "name": "stdin",
     "output_type": "stream",
     "text": [
      " hello\n"
     ]
    },
    {
     "name": "stdout",
     "output_type": "stream",
     "text": [
      "olleh\n"
     ]
    }
   ],
   "source": [
    "#2 Given a string, reverse the order of characters using string slicing and print the reversed string.\n",
    "rev=input()\n",
    "rev=rev[::-1]\n",
    "print(rev)"
   ]
  },
  {
   "cell_type": "code",
   "execution_count": 26,
   "id": "bff2dbcc-bb34-439a-95bc-7f7fdd372360",
   "metadata": {},
   "outputs": [
    {
     "name": "stdin",
     "output_type": "stream",
     "text": [
      " hol\n"
     ]
    },
    {
     "name": "stdout",
     "output_type": "stream",
     "text": [
      "its not a polindrome string\n"
     ]
    }
   ],
   "source": [
    "#3 Write a program that takes a string as input and checks if it is a palindrome (reads the same forwards and backwards).\n",
    "a=input()\n",
    "b=a[::-1]\n",
    "if a == b:\n",
    "    print('its is a polindrome string')\n",
    "else:\n",
    "    print('its not a polindrome string')"
   ]
  },
  {
   "cell_type": "code",
   "execution_count": 33,
   "id": "6b13247c-7a59-4660-9a03-857e6876668f",
   "metadata": {},
   "outputs": [
    {
     "name": "stdout",
     "output_type": "stream",
     "text": [
      "arpangupta\n"
     ]
    }
   ],
   "source": [
    "#4  Create a program that takes a string as input and removes all the spaces from it. Print the modified string without spaces.\n",
    "a='arpan gupta'\n",
    "b=''\n",
    "for i in range(len(a)):\n",
    "    if a[i]!=' ':\n",
    "        b=b+a[i]\n",
    "print(b)"
   ]
  },
  {
   "cell_type": "code",
   "execution_count": null,
   "id": "3967f04d-b21d-4bae-a8de-8ee976c65d7a",
   "metadata": {},
   "outputs": [],
   "source": []
  }
 ],
 "metadata": {
  "kernelspec": {
   "display_name": "Python 3 (ipykernel)",
   "language": "python",
   "name": "python3"
  },
  "language_info": {
   "codemirror_mode": {
    "name": "ipython",
    "version": 3
   },
   "file_extension": ".py",
   "mimetype": "text/x-python",
   "name": "python",
   "nbconvert_exporter": "python",
   "pygments_lexer": "ipython3",
   "version": "3.10.8"
  }
 },
 "nbformat": 4,
 "nbformat_minor": 5
}
